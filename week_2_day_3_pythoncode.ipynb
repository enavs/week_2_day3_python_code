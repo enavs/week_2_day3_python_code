{
 "cells": [
  {
   "cell_type": "markdown",
   "metadata": {},
   "source": [
    "# Exercise"
   ]
  },
  {
   "cell_type": "markdown",
   "metadata": {},
   "source": [
    "### Turn the shopping cart program from yesterday into an object-oriented program"
   ]
  },
  {
   "cell_type": "code",
   "execution_count": 139,
   "metadata": {
    "scrolled": true
   },
   "outputs": [
    {
     "name": "stdout",
     "output_type": "stream",
     "text": [
      "========================================\n",
      "You have no items in your cart. \n",
      "========================================\n",
      "Total: $0.00\n",
      "Have a good day! Goodbye!\n"
     ]
    }
   ],
   "source": []
  },
  {
   "cell_type": "code",
   "execution_count": 37,
   "metadata": {},
   "outputs": [
    {
     "name": "stdout",
     "output_type": "stream",
     "text": [
      "Hello, please input your grocery items into this list.\n",
      "You can add as many items as you want and delete any item as well.\n",
      "Type 'quit' to exit. Type 'add' to add an item. Type 'delete' to delete an item. Type 'show' to view current list.add\n",
      "Type 'quit' to exit. Enter item to addmango\n"
     ]
    },
    {
     "ename": "TypeError",
     "evalue": "add_items() missing 1 required positional argument: 'add'",
     "output_type": "error",
     "traceback": [
      "\u001b[0;31m---------------------------------------------------------------------------\u001b[0m",
      "\u001b[0;31mTypeError\u001b[0m                                 Traceback (most recent call last)",
      "\u001b[0;32m<ipython-input-37-a65185f04649>\u001b[0m in \u001b[0;36m<module>\u001b[0;34m\u001b[0m\n\u001b[1;32m     34\u001b[0m     \u001b[0;32melif\u001b[0m \u001b[0muser_input\u001b[0m \u001b[0;34m==\u001b[0m \u001b[0;34m'add'\u001b[0m\u001b[0;34m:\u001b[0m\u001b[0;34m\u001b[0m\u001b[0;34m\u001b[0m\u001b[0m\n\u001b[1;32m     35\u001b[0m         \u001b[0mitem\u001b[0m \u001b[0;34m=\u001b[0m \u001b[0minput\u001b[0m\u001b[0;34m(\u001b[0m\u001b[0;34m\"Type 'quit' to exit. Enter item to add\"\u001b[0m\u001b[0;34m)\u001b[0m\u001b[0;34m\u001b[0m\u001b[0;34m\u001b[0m\u001b[0m\n\u001b[0;32m---> 36\u001b[0;31m         \u001b[0mnew_cart\u001b[0m\u001b[0;34m.\u001b[0m\u001b[0madd_items\u001b[0m\u001b[0;34m(\u001b[0m\u001b[0;34m)\u001b[0m\u001b[0;34m\u001b[0m\u001b[0;34m\u001b[0m\u001b[0m\n\u001b[0m\u001b[1;32m     37\u001b[0m     \u001b[0;32melif\u001b[0m \u001b[0muser_input\u001b[0m \u001b[0;34m==\u001b[0m \u001b[0;34m'delete'\u001b[0m\u001b[0;34m:\u001b[0m\u001b[0;34m\u001b[0m\u001b[0;34m\u001b[0m\u001b[0m\n\u001b[1;32m     38\u001b[0m         \u001b[0mitem\u001b[0m \u001b[0;34m=\u001b[0m \u001b[0minput\u001b[0m\u001b[0;34m(\u001b[0m\u001b[0;34m\"Type 'quit' to exit. Enter item to delete\"\u001b[0m\u001b[0;34m)\u001b[0m\u001b[0;34m\u001b[0m\u001b[0;34m\u001b[0m\u001b[0m\n",
      "\u001b[0;31mTypeError\u001b[0m: add_items() missing 1 required positional argument: 'add'"
     ]
    }
   ],
   "source": [
    "list_of = []\n",
    "Flag = True\n",
    "\n",
    "class shopping_cartz:\n",
    "    def __init__(self, item):\n",
    "        self.item = item\n",
    "    \n",
    "    def add_items(self):\n",
    "        food_item = input(\"Type 'quit' to exit. Enter item to add\")\n",
    "        self.item.append(item)\n",
    "\n",
    "    def delete_items(self):\n",
    "        for k, v in list_of.items():\n",
    "            for i in v:\n",
    "                if i == delete:\n",
    "                    v.remove(i)\n",
    "        \n",
    "    def show_items(self):\n",
    "        print(list_of)\n",
    "        for i in self.item:\n",
    "            print(i)\n",
    "            \n",
    "def run_cart():        \n",
    "    new_cart = shopping_cartz([])\n",
    "    \n",
    "    \n",
    "while Flag:    \n",
    "    print(\"Hello, please input your grocery items into this list.\\nYou can add as many items as you want and delete any item as well.\")\n",
    "    user_input = input(\"Type 'quit' to exit. Type 'add' to add an item. Type 'delete' to delete an item. Type 'show' to view current list.\")\n",
    "    \n",
    "    if user_input == 'quit':\n",
    "        new_cart.show_items()\n",
    "        flag = False\n",
    "    \n",
    "    elif user_input == 'add':\n",
    "        new_cart.add_items()\n",
    "    elif user_input == 'delete':\n",
    "        item = input(\"Type 'quit' to exit. Enter item to delete\")\n",
    "        new_cart.delete_items()\n",
    "    elif user_input == 'show':\n",
    "        print(list)\n",
    "    else:\n",
    "        print(\"Sorry that is not a valid selection. Please try again.\")\n",
    "return\n",
    "        "
   ]
  },
  {
   "cell_type": "code",
   "execution_count": null,
   "metadata": {},
   "outputs": [],
   "source": []
  }
 ],
 "metadata": {
  "kernelspec": {
   "display_name": "Python 3",
   "language": "python",
   "name": "python3"
  },
  "language_info": {
   "codemirror_mode": {
    "name": "ipython",
    "version": 3
   },
   "file_extension": ".py",
   "mimetype": "text/x-python",
   "name": "python",
   "nbconvert_exporter": "python",
   "pygments_lexer": "ipython3",
   "version": "3.8.5"
  }
 },
 "nbformat": 4,
 "nbformat_minor": 2
}
