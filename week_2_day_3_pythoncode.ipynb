{
 "cells": [
  {
   "cell_type": "markdown",
   "metadata": {},
   "source": [
    "# Exercise"
   ]
  },
  {
   "cell_type": "markdown",
   "metadata": {},
   "source": [
    "### Turn the shopping cart program from yesterday into an object-oriented program"
   ]
  },
  {
   "cell_type": "code",
   "execution_count": 139,
   "metadata": {
    "scrolled": true
   },
   "outputs": [
    {
     "name": "stdout",
     "output_type": "stream",
     "text": [
      "========================================\n",
      "You have no items in your cart. \n",
      "========================================\n",
      "Total: $0.00\n",
      "Have a good day! Goodbye!\n"
     ]
    }
   ],
   "source": []
  },
  {
   "cell_type": "code",
   "execution_count": null,
   "metadata": {},
   "outputs": [],
   "source": [
    "list_of = []\n",
    "Flag = True\n",
    "\n",
    "class shopping_cartz:\n",
    "    def __init__(self, item):\n",
    "        self.item = item\n",
    "    \n",
    "    def add_items(self, add):\n",
    "        self.list_of = list_of.append(item)\n",
    "\n",
    "    def delete_items(self, delete):\n",
    "        for k, v in list_of.items():\n",
    "            for i in v:\n",
    "                if i == delete:\n",
    "                    v.remove(i)\n",
    "        \n",
    "    def show_items(self, show):\n",
    "        print(list_of)\n",
    "            \n",
    "while Flag:\n",
    "    user_input = input(\"Type an item to add it to your list. Type 'quit' to exit: \")\n",
    "    if user_input == 'quit':\n",
    "        Flag = False\n",
    "    else:\n",
    "        data = input(\"Type 'quit' to exit. Type 'add' to add an item. Type 'delete' to delete an item. Type 'show' to view current list.\")\n",
    "        input_item = shopping_cartz(item)\n",
    "        item.add_items()\n",
    "        \n",
    "        \n",
    "        "
   ]
  },
  {
   "cell_type": "code",
   "execution_count": null,
   "metadata": {},
   "outputs": [],
   "source": []
  }
 ],
 "metadata": {
  "kernelspec": {
   "display_name": "Python 3",
   "language": "python",
   "name": "python3"
  },
  "language_info": {
   "codemirror_mode": {
    "name": "ipython",
    "version": 3
   },
   "file_extension": ".py",
   "mimetype": "text/x-python",
   "name": "python",
   "nbconvert_exporter": "python",
   "pygments_lexer": "ipython3",
   "version": "3.8.5"
  }
 },
 "nbformat": 4,
 "nbformat_minor": 2
}
